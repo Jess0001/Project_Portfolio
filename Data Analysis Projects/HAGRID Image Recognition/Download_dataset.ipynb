{
 "cells": [
  {
   "cell_type": "markdown",
   "id": "98258606",
   "metadata": {},
   "source": [
    "# Dataset Download\n",
    "## ST10114669 Jessica Erasmus"
   ]
  },
  {
   "cell_type": "markdown",
   "id": "c91572a3",
   "metadata": {},
   "source": [
    "With the aid of the opendatasets Python library, one can use a simple command to download datasets from websites like Google Drive and Kaggle. The library offers a well chosen selection of datasets for machine learning and data analysis."
   ]
  },
  {
   "cell_type": "markdown",
   "id": "68877f56",
   "metadata": {},
   "source": [
    "### Instructions\n",
    "* Run all cell consecutively\n",
    "* Use the http://bit.ly/kaggle-creds link to get kaggle credentials and more information\n",
    "* Wait the program to complete full execution olnce done."
   ]
  },
  {
   "cell_type": "code",
   "execution_count": 1,
   "id": "53b29f57",
   "metadata": {},
   "outputs": [
    {
     "name": "stdout",
     "output_type": "stream",
     "text": [
      "Collecting opendatasets\n",
      "  Downloading opendatasets-0.1.22-py3-none-any.whl (15 kB)\n",
      "Requirement already satisfied: tqdm in c:\\users\\jess\\anaconda3\\lib\\site-packages (from opendatasets) (4.65.0)\n",
      "Collecting kaggle (from opendatasets)\n",
      "  Downloading kaggle-1.5.16.tar.gz (83 kB)\n",
      "     ---------------------------------------- 0.0/83.6 kB ? eta -:--:--\n",
      "     ---------------------------------------- 83.6/83.6 kB 1.6 MB/s eta 0:00:00\n",
      "  Preparing metadata (setup.py): started\n",
      "  Preparing metadata (setup.py): finished with status 'done'\n",
      "Requirement already satisfied: click in c:\\users\\jess\\anaconda3\\lib\\site-packages (from opendatasets) (8.0.4)\n",
      "Requirement already satisfied: colorama in c:\\users\\jess\\appdata\\roaming\\python\\python311\\site-packages (from click->opendatasets) (0.4.6)\n",
      "Requirement already satisfied: six>=1.10 in c:\\users\\jess\\appdata\\roaming\\python\\python311\\site-packages (from kaggle->opendatasets) (1.16.0)\n",
      "Requirement already satisfied: certifi in c:\\users\\jess\\anaconda3\\lib\\site-packages (from kaggle->opendatasets) (2023.7.22)\n",
      "Requirement already satisfied: python-dateutil in c:\\users\\jess\\appdata\\roaming\\python\\python311\\site-packages (from kaggle->opendatasets) (2.8.2)\n",
      "Requirement already satisfied: requests in c:\\users\\jess\\anaconda3\\lib\\site-packages (from kaggle->opendatasets) (2.31.0)\n",
      "Requirement already satisfied: python-slugify in c:\\users\\jess\\anaconda3\\lib\\site-packages (from kaggle->opendatasets) (5.0.2)\n",
      "Requirement already satisfied: urllib3 in c:\\users\\jess\\anaconda3\\lib\\site-packages (from kaggle->opendatasets) (1.26.16)\n",
      "Requirement already satisfied: bleach in c:\\users\\jess\\anaconda3\\lib\\site-packages (from kaggle->opendatasets) (4.1.0)\n",
      "Requirement already satisfied: packaging in c:\\users\\jess\\appdata\\roaming\\python\\python311\\site-packages (from bleach->kaggle->opendatasets) (23.1)\n",
      "Requirement already satisfied: webencodings in c:\\users\\jess\\anaconda3\\lib\\site-packages (from bleach->kaggle->opendatasets) (0.5.1)\n",
      "Requirement already satisfied: text-unidecode>=1.3 in c:\\users\\jess\\anaconda3\\lib\\site-packages (from python-slugify->kaggle->opendatasets) (1.3)\n",
      "Requirement already satisfied: charset-normalizer<4,>=2 in c:\\users\\jess\\anaconda3\\lib\\site-packages (from requests->kaggle->opendatasets) (2.0.4)\n",
      "Requirement already satisfied: idna<4,>=2.5 in c:\\users\\jess\\anaconda3\\lib\\site-packages (from requests->kaggle->opendatasets) (3.4)\n",
      "Building wheels for collected packages: kaggle\n",
      "  Building wheel for kaggle (setup.py): started\n",
      "  Building wheel for kaggle (setup.py): finished with status 'done'\n",
      "  Created wheel for kaggle: filename=kaggle-1.5.16-py3-none-any.whl size=110697 sha256=49324687719169f03c2736469fef240a343e9a41399ee5b7d337566f2805edb2\n",
      "  Stored in directory: c:\\users\\jess\\appdata\\local\\pip\\cache\\wheels\\6a\\2b\\d0\\457dd27de499e9423caf738e743c4a3f82886ee6b19f89d5b7\n",
      "Successfully built kaggle\n",
      "Installing collected packages: kaggle, opendatasets\n",
      "Successfully installed kaggle-1.5.16 opendatasets-0.1.22\n"
     ]
    }
   ],
   "source": [
    "#!pip install opendatasets"
   ]
  },
  {
   "cell_type": "code",
   "execution_count": 1,
   "id": "b4f7700e",
   "metadata": {},
   "outputs": [],
   "source": [
    "import opendatasets as od\n",
    "import pandas as pd"
   ]
  },
  {
   "cell_type": "code",
   "execution_count": 4,
   "id": "470e512d",
   "metadata": {
    "scrolled": true
   },
   "outputs": [
    {
     "name": "stdout",
     "output_type": "stream",
     "text": [
      "Please provide your Kaggle credentials to download this dataset. Learn more: http://bit.ly/kaggle-creds\n",
      "Your Kaggle username: jessicaerasmus\n",
      "Your Kaggle Key: ········\n",
      "Downloading hagrid-classification-512p-127k.zip to .\\hagrid-classification-512p-127k\n"
     ]
    },
    {
     "name": "stderr",
     "output_type": "stream",
     "text": [
      "100%|██████████| 2.92G/2.92G [09:30<00:00, 5.49MB/s] \n"
     ]
    },
    {
     "name": "stdout",
     "output_type": "stream",
     "text": [
      "\n"
     ]
    }
   ],
   "source": [
    "# https://www.kaggle.com/datasets/innominate817/hagrid-classification-512p-127k\n",
    "od.download('https://www.kaggle.com/datasets/innominate817/hagrid-classification-512p-127k')"
   ]
  },
  {
   "cell_type": "markdown",
   "id": "9c1a0ca0",
   "metadata": {},
   "source": [
    "### Further Instructions\n",
    "1. Once all cell executions are complete, ensure all data is located in the folder path\n",
    "2. Close and shut down the notebook.\n",
    "3. Rename 'hagrid-classification-512p-127k' folders to 'hagrid_classification' in the file explorer\n",
    "4. The new path should then be './hagrid_classification/hagrid_classification'"
   ]
  },
  {
   "cell_type": "code",
   "execution_count": null,
   "id": "bf9d5d75",
   "metadata": {},
   "outputs": [],
   "source": []
  }
 ],
 "metadata": {
  "kernelspec": {
   "display_name": "Python 3 (ipykernel)",
   "language": "python",
   "name": "python3"
  },
  "language_info": {
   "codemirror_mode": {
    "name": "ipython",
    "version": 3
   },
   "file_extension": ".py",
   "mimetype": "text/x-python",
   "name": "python",
   "nbconvert_exporter": "python",
   "pygments_lexer": "ipython3",
   "version": "3.11.4"
  }
 },
 "nbformat": 4,
 "nbformat_minor": 5
}
